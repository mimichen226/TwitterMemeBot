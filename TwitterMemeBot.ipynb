{
 "cells": [
  {
   "cell_type": "markdown",
   "metadata": {},
   "source": [
    "# Twitter Meme Bot\n",
    "\n",
    "Created by Mimi Chen\n",
    "\n",
    "November 15, 2016\n",
    "\n",
    "### Introduction \n",
    "\n",
    "The program **\"Twitter Meme Bot\"** is a Twitter bot that tweets memes from the meme source **\"ifunny.co\"**. \n",
    "\n",
    "### How to use the Twitter Meme Bot\n",
    "\n",
    "To use the **Twitter Meme Bot**, a user must have a Twitter account and have the keys and access tokens for a Twitter app (**insert consumer key, consumer secret, access token, access token secret where indicated**). Then, use pip to install the tweepy package. The user needs to set up the tweet API by importing tweepy and handling authentication. User can select what meme source URL to pass in to the function **generate_meme_database**, and then call the function **meme_bot** with the database passed in as an argument to tweet memes to the user's Twitter account.\n",
    "\n",
    "----------------------------------------------------------------------------------------------------------------"
   ]
  },
  {
   "cell_type": "markdown",
   "metadata": {},
   "source": [
    "# Set Up Keys and Access Tokens"
   ]
  },
  {
   "cell_type": "code",
   "execution_count": 78,
   "metadata": {
    "collapsed": true
   },
   "outputs": [],
   "source": [
    "# DAILYMEMEBOT\n",
    "CONSUMER_KEY    = '' # INSERT CONSUMER KEY (API KEY)\n",
    "CONSUMER_SECRET = '' # INSERT CONSUMER SECRET (API SECRET)\n",
    "\n",
    "ACCESS_TOKEN    = '' # INSERT ACCESS TOKEN\n",
    "ACCESS_SECRET   = '' # INSERT ACCESS TOKEN SECRET\n"
   ]
  },
  {
   "cell_type": "markdown",
   "metadata": {},
   "source": [
    "# Use pip to install tweepy package"
   ]
  },
  {
   "cell_type": "code",
   "execution_count": 7,
   "metadata": {
    "collapsed": false
   },
   "outputs": [
    {
     "name": "stdout",
     "output_type": "stream",
     "text": [
      "Requirement already satisfied (use --upgrade to upgrade): tweepy in /Users/mimichen/anaconda/lib/python2.7/site-packages\n",
      "Requirement already satisfied (use --upgrade to upgrade): six>=1.7.3 in /Users/mimichen/anaconda/lib/python2.7/site-packages (from tweepy)\n",
      "Requirement already satisfied (use --upgrade to upgrade): requests>=2.4.3 in /Users/mimichen/anaconda/lib/python2.7/site-packages (from tweepy)\n",
      "Requirement already satisfied (use --upgrade to upgrade): requests-oauthlib>=0.4.1 in /Users/mimichen/anaconda/lib/python2.7/site-packages (from tweepy)\n",
      "Requirement already satisfied (use --upgrade to upgrade): oauthlib>=0.6.2 in /Users/mimichen/anaconda/lib/python2.7/site-packages (from requests-oauthlib>=0.4.1->tweepy)\n",
      "\u001b[33mYou are using pip version 8.1.2, however version 9.0.1 is available.\n",
      "You should consider upgrading via the 'pip install --upgrade pip' command.\u001b[0m\n"
     ]
    }
   ],
   "source": [
    "!pip install tweepy"
   ]
  },
  {
   "cell_type": "markdown",
   "metadata": {},
   "source": [
    "# Set up tweet API"
   ]
  },
  {
   "cell_type": "code",
   "execution_count": 8,
   "metadata": {
    "collapsed": true
   },
   "outputs": [],
   "source": [
    "# Imports\n",
    "\n",
    "import tweepy\n",
    "\n",
    "# Authentication\n",
    "\n",
    "auth = tweepy.OAuthHandler(CONSUMER_KEY, CONSUMER_SECRET)\n",
    "auth.set_access_token(ACCESS_TOKEN, ACCESS_SECRET)\n",
    "api  = tweepy.API(auth)"
   ]
  },
  {
   "cell_type": "markdown",
   "metadata": {},
   "source": [
    "# Read image from URL and save image functions"
   ]
  },
  {
   "cell_type": "code",
   "execution_count": 75,
   "metadata": {
    "collapsed": true
   },
   "outputs": [],
   "source": [
    "# Functions written by Professor Peter Bui at University of Notre Dame\n",
    "# (http://www3.nd.edu/~pbui/teaching/cdt.30010.fa16/notebook10.html)\n",
    "\n",
    "\n",
    "# Display figures and images inline\n",
    "%matplotlib inline\n",
    "\n",
    "# Imports\n",
    "from matplotlib.pyplot import imread, imshow, imsave, figure\n",
    "import numpy\n",
    "import requests\n",
    "import StringIO\n",
    "\n",
    "# Functions\n",
    "def display_image(image, enlarge=False):\n",
    "    ''' Display image (enlarge if specified) '''\n",
    "    if enlarge:\n",
    "        figure(figsize=(10, 8))\n",
    "    imshow(numpy.asarray(image).astype('uint8'))\n",
    "\n",
    "def read_image(path, format='JPG'):\n",
    "    ''' Read image from path or URL '''\n",
    "    if path.startswith('http'):\n",
    "        data  = StringIO.StringIO(requests.get(path).content)\n",
    "        image = imread(data, format=format)\n",
    "    else:\n",
    "        image = imread(path)\n",
    "    return image\n",
    "\n",
    "def save_image(path, image):\n",
    "    ''' Save image to specified path '''\n",
    "    imsave(path, numpy.asarray(image).astype('uint8'))"
   ]
  },
  {
   "cell_type": "markdown",
   "metadata": {},
   "source": [
    "# Define Twitter Meme Bot function"
   ]
  },
  {
   "cell_type": "code",
   "execution_count": 76,
   "metadata": {
    "collapsed": false
   },
   "outputs": [],
   "source": [
    "# Imports\n",
    "\n",
    "import requests\n",
    "import time\n",
    "\n",
    "\n",
    "# Function Definition\n",
    "\n",
    "def generate_meme_database(URL):\n",
    "    '''Returns an array of meme URLs given the meme source website's URL '''\n",
    "    \n",
    "    # Get page content from the meme source URL\n",
    "    result = requests.get(URL)\n",
    "    \n",
    "    # Create an array to hold all URLs of memes\n",
    "    database = []\n",
    "    \n",
    "    # Figure out what tag the meme URL is under in HTML file\n",
    "    media_tag = '<img class=\"media__image\" src=\"' # all meme images from ifunny.co begin with this string tag \n",
    "       \n",
    "    # Get content of requested page as a string    \n",
    "    data = result.content \n",
    "    \n",
    "    # Locate all the URLs of memes in page source code\n",
    "    while (data):\n",
    "        \n",
    "        # Find returns the index of where '<' of image tag is\n",
    "        # Index is shifted by the length of \"media_tag\" so index now points at begining of URL\n",
    "        index = data.find(media_tag) + len(media_tag)\n",
    "\n",
    "        # If the media_tag no longer appears in the data, no need to keep looking through the data\n",
    "        if data.find(media_tag) < 0: \n",
    "            break\n",
    "\n",
    "        # Desired data now begins with the meme url\n",
    "        data = data[index:]\n",
    "        stuff = data.split(\"\\\"\") # data is not changed; stuff is a list holding all strings separated by a \"\n",
    "        meme_url = stuff[0] # Meme url should be the first element of stuff\n",
    "\n",
    "        # Add to the meme database\n",
    "        database.append(meme_url)\n",
    "        \n",
    "    return database\n",
    "\n",
    "\n",
    "def meme_bot(meme_database):\n",
    "    '''Retrieves the memes using the URLs in the meme database, saves memes to the path \"todaysmeme.jpg\", \n",
    "    and uses the Twitter API to tweet the memes'''\n",
    "    \n",
    "    wait_time = 10.0 # 10 seconds\n",
    "    \n",
    "    # While the meme_database is not empty\n",
    "    while (meme_database):\n",
    "        \n",
    "        # Pull image from meme URL and save to local computer to the path called 'todaysmeme.jpg'\n",
    "        # 'todaysmeme.jpg' will be overwritten with new meme with each iteration\n",
    "        save_image('todaysmeme.jpg',read_image(meme_database[0]))\n",
    "\n",
    "        # Remove meme URL from meme_database\n",
    "        meme_database.remove(meme_database[0])\n",
    "\n",
    "        # Try to tweet the meme; catch if there's an error \n",
    "        try:\n",
    "            print 'Waiting {} seconds...'.format(wait_time)\n",
    "            time.sleep(wait_time)\n",
    "            print 'Running bot...'\n",
    "#            display_image('todaysmeme.jpg')\n",
    "            api.update_with_media('todaysmeme.jpg')\n",
    "        except tweepy.TweepError as e:\n",
    "            print 'Houston, we have a problem: {}'.format(e)\n",
    "            continue"
   ]
  },
  {
   "cell_type": "markdown",
   "metadata": {},
   "source": [
    "# Run Twitter Meme Bot"
   ]
  },
  {
   "cell_type": "code",
   "execution_count": 77,
   "metadata": {
    "collapsed": false
   },
   "outputs": [
    {
     "name": "stdout",
     "output_type": "stream",
     "text": [
      "Waiting 10.0 seconds...\n",
      "Running bot...\n",
      "Waiting 10.0 seconds...\n",
      "Running bot...\n",
      "Waiting 10.0 seconds...\n",
      "Running bot...\n",
      "Waiting 10.0 seconds...\n",
      "Running bot...\n",
      "Waiting 10.0 seconds...\n",
      "Running bot...\n",
      "Waiting 10.0 seconds...\n",
      "Running bot...\n",
      "Waiting 10.0 seconds...\n",
      "Running bot...\n",
      "Waiting 10.0 seconds...\n",
      "Running bot...\n",
      "Waiting 10.0 seconds...\n",
      "Running bot...\n",
      "Waiting 10.0 seconds...\n",
      "Running bot...\n"
     ]
    }
   ],
   "source": [
    "meme_database = generate_meme_database('https://ifunny.co/tags/animal') # + generate_meme_database('https://ifunny.co/tags/pumpkinspice')\n",
    "                                                                    # ^ Remove comment to create a database from multiple sources\n",
    "meme_bot(meme_database)"
   ]
  },
  {
   "cell_type": "code",
   "execution_count": null,
   "metadata": {
    "collapsed": true
   },
   "outputs": [],
   "source": []
  }
 ],
 "metadata": {
  "kernelspec": {
   "display_name": "Python 2",
   "language": "python",
   "name": "python2"
  },
  "language_info": {
   "codemirror_mode": {
    "name": "ipython",
    "version": 2
   },
   "file_extension": ".py",
   "mimetype": "text/x-python",
   "name": "python",
   "nbconvert_exporter": "python",
   "pygments_lexer": "ipython2",
   "version": "2.7.12"
  }
 },
 "nbformat": 4,
 "nbformat_minor": 0
}
